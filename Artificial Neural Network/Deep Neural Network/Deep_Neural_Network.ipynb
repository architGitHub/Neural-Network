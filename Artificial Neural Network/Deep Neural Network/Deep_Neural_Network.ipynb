{
  "nbformat": 4,
  "nbformat_minor": 0,
  "metadata": {
    "colab": {
      "name": "Deep Learning",
      "provenance": [],
      "collapsed_sections": []
    },
    "kernelspec": {
      "name": "python3",
      "display_name": "Python 3"
    }
  },
  "cells": [
    {
      "cell_type": "code",
      "metadata": {
        "id": "kmPaqj5v_aiK",
        "colab_type": "code",
        "colab": {}
      },
      "source": [
        "import numpy as np\n",
        "import pandas as pd\n",
        "from matplotlib import pyplot\n",
        "from sklearn.metrics import accuracy_score\n",
        "import random"
      ],
      "execution_count": 0,
      "outputs": []
    },
    {
      "cell_type": "code",
      "metadata": {
        "id": "Vft2iyawBYRF",
        "colab_type": "code",
        "colab": {}
      },
      "source": [
        "def initialise(X, n, random_state):\n",
        "  np.random.seed(random_state)\n",
        "  w = [None for _ in range(len(n))]\n",
        "  b = [None for _ in range(len(n))]\n",
        "\n",
        "  for i in range(len(n)):\n",
        "    if i == 0:\n",
        "      n_minus_1 = X.shape[1]\n",
        "    else:\n",
        "      n_minus_1 = n[i-1]\n",
        "\n",
        "    w[i] = np.random.randn(n_minus_1, n[i]) * np.sqrt(2. / n_minus_1)\n",
        "    b[i] = np.random.randn(1, n[i])\n",
        "\n",
        "  return w, b"
      ],
      "execution_count": 0,
      "outputs": []
    },
    {
      "cell_type": "code",
      "metadata": {
        "id": "woEgSF3DVa9m",
        "colab_type": "code",
        "colab": {}
      },
      "source": [
        "def sigmoid(z):\n",
        "  return 1 / (1 + np.exp(-z))"
      ],
      "execution_count": 0,
      "outputs": []
    },
    {
      "cell_type": "code",
      "metadata": {
        "id": "s-fddNCEhq5O",
        "colab_type": "code",
        "colab": {}
      },
      "source": [
        "def relu(z):\n",
        "  return np.maximum(z, 0)"
      ],
      "execution_count": 0,
      "outputs": []
    },
    {
      "cell_type": "code",
      "metadata": {
        "id": "aeJaGWuMTGtx",
        "colab_type": "code",
        "colab": {}
      },
      "source": [
        "def relu_prime(z):\n",
        "    return (z > 0) * 1"
      ],
      "execution_count": 0,
      "outputs": []
    },
    {
      "cell_type": "code",
      "metadata": {
        "id": "JU7ZOn7u2TiT",
        "colab_type": "code",
        "colab": {}
      },
      "source": [
        "def get_activation_func(activation_name):\n",
        "  if activation_name == 'relu':\n",
        "    return relu\n",
        "  elif activation_name == 'sigmoid':\n",
        "    return sigmoid"
      ],
      "execution_count": 0,
      "outputs": []
    },
    {
      "cell_type": "code",
      "metadata": {
        "id": "_yjybJ0cWw1q",
        "colab_type": "code",
        "colab": {}
      },
      "source": [
        "def forward_prop(X, w, b, n, activation):\n",
        "\n",
        "  z = [None for _ in range(len(n))]\n",
        "  a = [None for _ in range(len(n))]\n",
        "\n",
        "  for i in range(len(n)):\n",
        "    if i == 0:\n",
        "      a_minus_1 = X\n",
        "    else:\n",
        "      a_minus_1 = a[i-1]\n",
        "\n",
        "    z[i] = np.dot(a_minus_1, w[i]) + b[i] \n",
        "    a[i] = get_activation_func(activation[i])(z[i])\n",
        "\n",
        "  return z, a"
      ],
      "execution_count": 0,
      "outputs": []
    },
    {
      "cell_type": "code",
      "metadata": {
        "id": "7iuXCXlcW2vE",
        "colab_type": "code",
        "colab": {}
      },
      "source": [
        "def backward_prop(X, y, w, z, a):\n",
        "  dw = [None for _ in range(len(w))]\n",
        "  db = [None for _ in range(len(w))]\n",
        "  dz = [None for _ in range(len(w))]\n",
        "\n",
        "  for i in reversed(range(len(w))):\n",
        "    if i == len(w) - 1:\n",
        "      dz[i] = a[i] - y\n",
        "    else:\n",
        "      dz[i] = np.dot(dz[i+1], w[i+1].T) * relu_prime(z[i])\n",
        "    \n",
        "    if i == 0:\n",
        "      a_minus_1 = X    \n",
        "    else:\n",
        "      a_minus_1 = a[i-1]\n",
        "\n",
        "    dw[i] = np.dot(a_minus_1.T, dz[i]) / X.shape[0]    \n",
        "    db[i] = np.sum(dz[i], axis = 0, keepdims= True) / X.shape[0]\n",
        "    \n",
        "  return dz, dw, db"
      ],
      "execution_count": 0,
      "outputs": []
    },
    {
      "cell_type": "code",
      "metadata": {
        "id": "01fqMEfVaaju",
        "colab_type": "code",
        "colab": {}
      },
      "source": [
        "def update(alpha, w, b, dw, db, n):\n",
        "  for i in range(len(n)):\n",
        "    w[i] = w[i] - (alpha * dw[i])\n",
        "    b[i] = b[i] - (alpha * db[i])\n",
        "    \n",
        "  return w, b"
      ],
      "execution_count": 0,
      "outputs": []
    },
    {
      "cell_type": "code",
      "metadata": {
        "id": "7tg4ZM3g9MjV",
        "colab_type": "code",
        "colab": {}
      },
      "source": [
        "def loss(y, y_hat):\n",
        "  L = -((y * np.log(y_hat + 1e-15)) + ((1 - y ) * np.log(1 - y_hat + 1e-15))) / y.shape[0]\n",
        "  return np.nansum(L)"
      ],
      "execution_count": 0,
      "outputs": []
    },
    {
      "cell_type": "code",
      "metadata": {
        "id": "ZBAT-A0wwE42",
        "colab_type": "code",
        "colab": {}
      },
      "source": [
        "import h5py\n",
        "\n",
        "def load_dataset():\n",
        "    train_dataset = h5py.File('datasets/train_catvnoncat.h5', \"r\")\n",
        "    train_set_x_orig = np.array(train_dataset[\"train_set_x\"][:])\n",
        "    train_set_y_orig = np.array(train_dataset[\"train_set_y\"][:])\n",
        "\n",
        "    test_dataset = h5py.File('datasets/test_catvnoncat.h5', \"r\")\n",
        "    test_set_x_orig = np.array(test_dataset[\"test_set_x\"][:])\n",
        "    test_set_y_orig = np.array(test_dataset[\"test_set_y\"][:])\n",
        "\n",
        "    classes = np.array(test_dataset[\"list_classes\"][:])\n",
        "    \n",
        "    return train_set_x_orig, train_set_y_orig, test_set_x_orig, test_set_y_orig, classes"
      ],
      "execution_count": 0,
      "outputs": []
    },
    {
      "cell_type": "code",
      "metadata": {
        "id": "Kkf6h_MiARMU",
        "colab_type": "code",
        "colab": {}
      },
      "source": [
        "def train(X_train, y_train, X_test, y_test, epochs, alpha, n):\n",
        "  loss_array = []\n",
        "  w, b = initialise(X_train, n , random_state=0)\n",
        "\n",
        "  for i in range(epochs+1):\n",
        "    z, a = (forward_prop(X_train, w, b, n, activation))\n",
        "    dz, dw, db = backward_prop(X_train, y_train, w, z, a)\n",
        "    w, b = update(alpha, w, b, dw, db, n)\n",
        "    loss_array.append(loss(y_train,a[-1]))\n",
        "\n",
        "    if i % (epochs / 10) == 0:\n",
        "      pred_train = np.where(a[-1] > 0.5, 1, 0)\n",
        "      _, a_test = (forward_prop(X_test, w, b, n, activation))\n",
        "      pred_test = np.where(a_test[-1] > 0.5, 1, 0)\n",
        "\n",
        "      print('Epoch: {}\\tLoss: {:.5f}\\t\\tTraining Acc: {:.5f}\\tTest Acc: {:.5f}'.\n",
        "            format(i, loss(y_train,a[-1]), accuracy_score(y_train, pred_train), accuracy_score(y_test, pred_test)))\n",
        "\n",
        "  return w, b, loss_array"
      ],
      "execution_count": 0,
      "outputs": []
    },
    {
      "cell_type": "code",
      "metadata": {
        "id": "nxvUqagBSGyO",
        "colab_type": "code",
        "colab": {}
      },
      "source": [
        "def predict(X_test, y_test, w, b, n, activation):\n",
        "  _, a = (forward_prop(X_test, w, b, n, activation))\n",
        "  pred = np.where(a[-1] > 0.5, 1, 0)\n",
        "\n",
        "  return accuracy_score(y_test, pred)"
      ],
      "execution_count": 0,
      "outputs": []
    },
    {
      "cell_type": "code",
      "metadata": {
        "id": "VgIzWYWqJqSD",
        "colab_type": "code",
        "colab": {}
      },
      "source": [
        "train_set_x_orig, train_set_y_orig, test_set_x_orig, test_set_y_orig, classes = load_dataset()\n",
        "\n",
        "X_train = train_set_x_orig\n",
        "y_train = train_set_y_orig\n",
        "\n",
        "X_train = X_train.reshape(X_train.shape[0], -1) / 255\n",
        "y_train = y_train.reshape(y_train.shape[0], 1)\n",
        "\n",
        "X_test = test_set_x_orig\n",
        "y_test = test_set_y_orig\n",
        "\n",
        "X_test = X_test.reshape(X_test.shape[0], -1) / 255\n",
        "y_test = y_test.reshape(y_test.shape[0], 1)"
      ],
      "execution_count": 0,
      "outputs": []
    },
    {
      "cell_type": "code",
      "metadata": {
        "id": "V0mMMrrjQQkB",
        "colab_type": "code",
        "outputId": "d29bcc5b-6ae1-4c21-d8a1-3fbcfb09a5c9",
        "colab": {
          "base_uri": "https://localhost:8080/",
          "height": 207
        }
      },
      "source": [
        "alpha = 5e-3\n",
        "epochs = 2000\n",
        "\n",
        "activation = ['relu','relu', 'sigmoid']\n",
        "\n",
        "n = [10, 3, 1]\n",
        "\n",
        "w, b, loss_array = train(X_train, y_train, X_test, y_test, epochs, alpha, n)"
      ],
      "execution_count": 16,
      "outputs": [
        {
          "output_type": "stream",
          "text": [
            "Epoch: 0\tLoss: 0.68697\t\tTraining Acc: 0.66029\tTest Acc: 0.34000\n",
            "Epoch: 200\tLoss: 0.43266\t\tTraining Acc: 0.75120\tTest Acc: 0.42000\n",
            "Epoch: 400\tLoss: 0.30902\t\tTraining Acc: 0.90909\tTest Acc: 0.62000\n",
            "Epoch: 600\tLoss: 0.21357\t\tTraining Acc: 0.95694\tTest Acc: 0.70000\n",
            "Epoch: 800\tLoss: 0.13955\t\tTraining Acc: 0.98565\tTest Acc: 0.70000\n",
            "Epoch: 1000\tLoss: 0.08861\t\tTraining Acc: 0.98565\tTest Acc: 0.74000\n",
            "Epoch: 1200\tLoss: 0.06414\t\tTraining Acc: 0.98565\tTest Acc: 0.74000\n",
            "Epoch: 1400\tLoss: 0.04775\t\tTraining Acc: 0.98565\tTest Acc: 0.72000\n",
            "Epoch: 1600\tLoss: 0.03723\t\tTraining Acc: 0.99522\tTest Acc: 0.74000\n",
            "Epoch: 1800\tLoss: 0.03032\t\tTraining Acc: 0.99522\tTest Acc: 0.72000\n",
            "Epoch: 2000\tLoss: 0.02585\t\tTraining Acc: 0.99522\tTest Acc: 0.70000\n"
          ],
          "name": "stdout"
        }
      ]
    },
    {
      "cell_type": "code",
      "metadata": {
        "id": "A7F0pQNCG6Zk",
        "colab_type": "code",
        "outputId": "2aad9478-18b4-438c-d2d3-1e1effe92644",
        "colab": {
          "base_uri": "https://localhost:8080/",
          "height": 34
        }
      },
      "source": [
        "pred = predict(X_test, y_test, w, b, n, activation)\n",
        "\n",
        "print('Test accuracy: ', pred)"
      ],
      "execution_count": 17,
      "outputs": [
        {
          "output_type": "stream",
          "text": [
            "Test accuracy:  0.7\n"
          ],
          "name": "stdout"
        }
      ]
    }
  ]
}