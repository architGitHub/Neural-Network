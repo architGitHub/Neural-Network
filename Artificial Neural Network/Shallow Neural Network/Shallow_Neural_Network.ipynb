{
  "nbformat": 4,
  "nbformat_minor": 0,
  "metadata": {
    "colab": {
      "name": "Shallow Neural Network",
      "provenance": [],
      "collapsed_sections": []
    },
    "kernelspec": {
      "name": "python3",
      "display_name": "Python 3"
    }
  },
  "cells": [
    {
      "cell_type": "code",
      "metadata": {
        "id": "kmPaqj5v_aiK",
        "colab_type": "code",
        "colab": {}
      },
      "source": [
        "import numpy as np\n",
        "import pandas as pd\n",
        "from matplotlib import pyplot\n",
        "from sklearn.metrics import accuracy_score\n",
        "import random\n",
        "from sklearn.datasets import make_moons\n",
        "import matplotlib.pyplot as plt\n",
        "from sklearn.model_selection import train_test_split"
      ],
      "execution_count": 0,
      "outputs": []
    },
    {
      "cell_type": "code",
      "metadata": {
        "id": "Vft2iyawBYRF",
        "colab_type": "code",
        "colab": {}
      },
      "source": [
        "def initialise(X, last, random_state):\n",
        "  np.random.seed(random_state)\n",
        "  w1 = np.random.randn(X.shape[1], last) * np.sqrt(2. / X.shape[1])\n",
        "  b1 = np.random.randn(1, last)\n",
        "  w2 = np.random.randn(last, 1) * np.sqrt(2. / last)\n",
        "  b2 = np.random.randn(1, 1)\n",
        "  return w1, b1, w2, b2"
      ],
      "execution_count": 0,
      "outputs": []
    },
    {
      "cell_type": "code",
      "metadata": {
        "id": "woEgSF3DVa9m",
        "colab_type": "code",
        "colab": {}
      },
      "source": [
        "def sigmoid(z):\n",
        "  return 1 / (1 + np.exp(-z))"
      ],
      "execution_count": 0,
      "outputs": []
    },
    {
      "cell_type": "code",
      "metadata": {
        "id": "s-fddNCEhq5O",
        "colab_type": "code",
        "colab": {}
      },
      "source": [
        "def relu(z):\n",
        "  return np.maximum(z, 0)"
      ],
      "execution_count": 0,
      "outputs": []
    },
    {
      "cell_type": "code",
      "metadata": {
        "id": "aeJaGWuMTGtx",
        "colab_type": "code",
        "colab": {}
      },
      "source": [
        "def relu_prime(z):\n",
        "    return (z > 0) * 1"
      ],
      "execution_count": 0,
      "outputs": []
    },
    {
      "cell_type": "code",
      "metadata": {
        "id": "_yjybJ0cWw1q",
        "colab_type": "code",
        "colab": {}
      },
      "source": [
        "def forward_prop(X, w1, b1, w2, b2):\n",
        "  z1 = np.dot(X, w1) + b1\n",
        "  a1 = relu(z1)\n",
        "  z2 = np.dot(a1, w2) + b2\n",
        "  a2 = sigmoid(z2)\n",
        "  return z1, a1, z2, a2"
      ],
      "execution_count": 0,
      "outputs": []
    },
    {
      "cell_type": "code",
      "metadata": {
        "id": "7iuXCXlcW2vE",
        "colab_type": "code",
        "colab": {}
      },
      "source": [
        "def backward_prop(X, y, w1, w2, z1, a1, a2):\n",
        "  dz2 = a2 - y\n",
        "  dw2 = np.dot(a1.T, dz2) / X.shape[0]\n",
        "  db2 = np.sum(dz2, axis = 0, keepdims= True) / X.shape[0]\n",
        "\n",
        "  dz1 = np.dot(dz2, w2.T) * relu_prime(z1)\n",
        "  dw1 = np.dot(X.T, dz1 / X.shape[0])\n",
        "  db1 = np.sum(dz1, axis = 0, keepdims= True) / X.shape[0]\n",
        "\n",
        "  return dz1, dw1, db1, dz2, dw2, db2"
      ],
      "execution_count": 0,
      "outputs": []
    },
    {
      "cell_type": "code",
      "metadata": {
        "id": "01fqMEfVaaju",
        "colab_type": "code",
        "colab": {}
      },
      "source": [
        "def update(alpha, w1, b1, w2, b2, dw1, db1, dw2, db2):\n",
        "  w2 = w2 - (alpha * dw2)\n",
        "  b2 = b2 - (alpha * db2)\n",
        "  \n",
        "  w1 = w1 - (alpha * dw1)\n",
        "  b1 = b1 - (alpha * db1)\n",
        "  return w1, b1, w2, b2"
      ],
      "execution_count": 0,
      "outputs": []
    },
    {
      "cell_type": "code",
      "metadata": {
        "id": "7tg4ZM3g9MjV",
        "colab_type": "code",
        "colab": {}
      },
      "source": [
        "def loss(y, y_hat):\n",
        "  L = -((y * np.log(y_hat + 1e-15)) + ((1 - y ) * np.log(1 - y_hat + 1e-15))) / y.shape[0]\n",
        "  return np.nansum(L)"
      ],
      "execution_count": 0,
      "outputs": []
    },
    {
      "cell_type": "code",
      "metadata": {
        "id": "Kkf6h_MiARMU",
        "colab_type": "code",
        "colab": {}
      },
      "source": [
        "def train(X_train, y_train, X_test, y_test, epochs, alpha, last):\n",
        "    \n",
        "  w1, b1, w2, b2 = initialise(X_train, last = last, random_state=0)\n",
        "\n",
        "  for i in range(epochs+1):\n",
        "\n",
        "    z1, a1, z2, a2 = (forward_prop(X_train, w1, b1, w2, b2))\n",
        "    dz1, dw1, db1, dz2, dw2, db2 = backward_prop(X_train, y_train, w1, w2, z1, a1, a2)\n",
        "    w1, b1, w2, b2 = update(alpha, w1, b1, w2, b2, dw1, db1, dw2, db2)\n",
        "\n",
        "    if i % (epochs / 10) == 0:\n",
        "      z1, a1, z2, a2_train = (forward_prop(X_train, w1, b1, w2, b2))\n",
        "      pred_train = np.where(a2_train > 0.5, 1, 0)\n",
        "\n",
        "      _, _, _, a2_test = (forward_prop(X_test, w1, b1, w2, b2))\n",
        "      pred_test = np.where(a2_test > 0.5, 1, 0)\n",
        "\n",
        "\n",
        "      print('Epoch: {}\\tLoss: {:.5f}\\t\\tTraining Acc: {:.5f}\\tTest Acc: {:.5f}'.\n",
        "            format(i, loss(y_train,a2_train), accuracy_score(y_train, pred_train), accuracy_score(y_test, pred_test)))\n",
        "  return w1, b1, w2, b2"
      ],
      "execution_count": 0,
      "outputs": []
    },
    {
      "cell_type": "code",
      "metadata": {
        "id": "nxvUqagBSGyO",
        "colab_type": "code",
        "colab": {}
      },
      "source": [
        "def predict(X_test, y_test, w1, b1, w2, b2):\n",
        "\n",
        "\n",
        "  _, _, _, a = (forward_prop(X_test, w1, b1, w2, b2))\n",
        "  pred = np.where(a > 0.5, 1, 0)\n",
        "\n",
        "  return accuracy_score(y_test, pred)"
      ],
      "execution_count": 0,
      "outputs": []
    },
    {
      "cell_type": "code",
      "metadata": {
        "id": "zu47L2X1jDRa",
        "colab_type": "code",
        "colab": {}
      },
      "source": [
        "noisy_moons = make_moons(n_samples=1000, noise=0.1, random_state=0)\n",
        "\n",
        "X, y = noisy_moons\n",
        "y = y.reshape(-1, 1)"
      ],
      "execution_count": 0,
      "outputs": []
    },
    {
      "cell_type": "code",
      "metadata": {
        "id": "dN4eiMPboMe0",
        "colab_type": "code",
        "colab": {
          "base_uri": "https://localhost:8080/",
          "height": 282
        },
        "outputId": "512d36e8-a8e3-4d05-8615-9770f9b10a1d"
      },
      "source": [
        "plt.scatter(X[:, 0], X[:, 1], c=y, s=40, cmap=plt.cm.Spectral)"
      ],
      "execution_count": 13,
      "outputs": [
        {
          "output_type": "execute_result",
          "data": {
            "text/plain": [
              "<matplotlib.collections.PathCollection at 0x7f73573f4cc0>"
            ]
          },
          "metadata": {
            "tags": []
          },
          "execution_count": 13
        },
        {
          "output_type": "display_data",
          "data": {
            "image/png": "[encoded data removed]",
            "text/plain": [
              "<Figure size 432x288 with 1 Axes>"
            ]
          },
          "metadata": {
            "tags": [],
            "needs_background": "light"
          }
        }
      ]
    },
    {
      "cell_type": "code",
      "metadata": {
        "id": "Ry7rpQ77n93r",
        "colab_type": "code",
        "colab": {}
      },
      "source": [
        "X_train, X_test, y_train, y_test = train_test_split(X, y, test_size=0.3, random_state=0)"
      ],
      "execution_count": 0,
      "outputs": []
    },
    {
      "cell_type": "code",
      "metadata": {
        "id": "A3VTiy5joISk",
        "colab_type": "code",
        "colab": {
          "base_uri": "https://localhost:8080/",
          "height": 207
        },
        "outputId": "bbe96d4c-f323-43ef-c454-02730b2b8489"
      },
      "source": [
        "epochs = 10000\n",
        "alpha = 5e-3\n",
        "w1, b1, w2, b2 = train(X_train, y_train, X_test, y_test, epochs, alpha, last=10)"
      ],
      "execution_count": 15,
      "outputs": [
        {
          "output_type": "stream",
          "text": [
            "Epoch: 0\tLoss: 1.90663\t\tTraining Acc: 0.50714\tTest Acc: 0.48333\n",
            "Epoch: 1000\tLoss: 0.31809\t\tTraining Acc: 0.86143\tTest Acc: 0.85000\n",
            "Epoch: 2000\tLoss: 0.25336\t\tTraining Acc: 0.87857\tTest Acc: 0.86667\n",
            "Epoch: 3000\tLoss: 0.23052\t\tTraining Acc: 0.88571\tTest Acc: 0.88333\n",
            "Epoch: 4000\tLoss: 0.21613\t\tTraining Acc: 0.89286\tTest Acc: 0.89000\n",
            "Epoch: 5000\tLoss: 0.20427\t\tTraining Acc: 0.90000\tTest Acc: 0.89667\n",
            "Epoch: 6000\tLoss: 0.19316\t\tTraining Acc: 0.91000\tTest Acc: 0.89667\n",
            "Epoch: 7000\tLoss: 0.18314\t\tTraining Acc: 0.91857\tTest Acc: 0.90000\n",
            "Epoch: 8000\tLoss: 0.17385\t\tTraining Acc: 0.92000\tTest Acc: 0.90333\n",
            "Epoch: 9000\tLoss: 0.16552\t\tTraining Acc: 0.92714\tTest Acc: 0.90333\n",
            "Epoch: 10000\tLoss: 0.15773\t\tTraining Acc: 0.93429\tTest Acc: 0.91667\n"
          ],
          "name": "stdout"
        }
      ]
    },
    {
      "cell_type": "code",
      "metadata": {
        "id": "h9Rx1UAQoeCP",
        "colab_type": "code",
        "colab": {
          "base_uri": "https://localhost:8080/",
          "height": 34
        },
        "outputId": "ca5c430c-1026-4205-a0a3-1dd646725190"
      },
      "source": [
        "pred = predict(X_test, y_test, w1, b1, w2, b2)\n",
        "print('Test accuracy: ', pred)"
      ],
      "execution_count": 16,
      "outputs": [
        {
          "output_type": "stream",
          "text": [
            "Test accuracy:  0.9166666666666666\n"
          ],
          "name": "stdout"
        }
      ]
    }
  ]
}