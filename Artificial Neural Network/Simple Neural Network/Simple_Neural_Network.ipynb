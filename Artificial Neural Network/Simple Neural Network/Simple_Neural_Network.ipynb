{
  "nbformat": 4,
  "nbformat_minor": 0,
  "metadata": {
    "colab": {
      "name": "Simple Neural Network",
      "provenance": [],
      "collapsed_sections": []
    },
    "kernelspec": {
      "name": "python3",
      "display_name": "Python 3"
    }
  },
  "cells": [
    {
      "cell_type": "code",
      "metadata": {
        "id": "B5SYOsZsJRGd",
        "colab_type": "code",
        "colab": {}
      },
      "source": [
        "import numpy as np\n",
        "import pandas as pd\n",
        "from matplotlib import pyplot\n",
        "from sklearn.metrics import accuracy_score\n",
        "import h5py"
      ],
      "execution_count": 0,
      "outputs": []
    },
    {
      "cell_type": "code",
      "metadata": {
        "id": "qlcs61JkeMOP",
        "colab_type": "code",
        "colab": {}
      },
      "source": [
        "def initialise(X):\n",
        "  w = np.random.rand(X.shape[1], 1) * 0.01\n",
        "  b = 0\n",
        "  return w, b"
      ],
      "execution_count": 0,
      "outputs": []
    },
    {
      "cell_type": "code",
      "metadata": {
        "id": "woEgSF3DVa9m",
        "colab_type": "code",
        "colab": {}
      },
      "source": [
        "def sigmoid(z):\n",
        "  return 1 / (1 + np.exp(-z))"
      ],
      "execution_count": 0,
      "outputs": []
    },
    {
      "cell_type": "code",
      "metadata": {
        "id": "_yjybJ0cWw1q",
        "colab_type": "code",
        "colab": {}
      },
      "source": [
        "def forward_prop(X, w, b):\n",
        "  z = np.dot(X, w) + b\n",
        "  a = sigmoid(z)\n",
        "  return z, a"
      ],
      "execution_count": 0,
      "outputs": []
    },
    {
      "cell_type": "code",
      "metadata": {
        "id": "7iuXCXlcW2vE",
        "colab_type": "code",
        "colab": {}
      },
      "source": [
        "def backward_prop(y, a, X):\n",
        "  dz = a - y\n",
        "  dw = np.dot(X.T, dz) / X.shape[0]\n",
        "  db = np.sum(dz) / X.shape[0]\n",
        "  return dz, dw, db"
      ],
      "execution_count": 0,
      "outputs": []
    },
    {
      "cell_type": "code",
      "metadata": {
        "id": "01fqMEfVaaju",
        "colab_type": "code",
        "colab": {}
      },
      "source": [
        "def update(alpha, dw, db, w, b):\n",
        "  w = w - (alpha * dw)\n",
        "  b = b - (alpha * db)\n",
        "  return w, b"
      ],
      "execution_count": 0,
      "outputs": []
    },
    {
      "cell_type": "code",
      "metadata": {
        "id": "igEnEcZUW704",
        "colab_type": "code",
        "colab": {}
      },
      "source": [
        "def loss(y, y_hat):\n",
        "  L = -((y * np.log(y_hat + 1e-15)) + ((1 - y ) * np.log(1 - y_hat + 1e-15))) / y.shape[0]\n",
        "  return np.sum(L)"
      ],
      "execution_count": 0,
      "outputs": []
    },
    {
      "cell_type": "code",
      "metadata": {
        "id": "ZBAT-A0wwE42",
        "colab_type": "code",
        "colab": {}
      },
      "source": [
        "def load_dataset():\n",
        "    train_dataset = h5py.File('datasets/train_catvnoncat.h5', \"r\")\n",
        "    train_set_x_orig = np.array(train_dataset[\"train_set_x\"][:])\n",
        "    train_set_y_orig = np.array(train_dataset[\"train_set_y\"][:])\n",
        "\n",
        "    test_dataset = h5py.File('datasets/test_catvnoncat.h5', \"r\")\n",
        "    test_set_x_orig = np.array(test_dataset[\"test_set_x\"][:])\n",
        "    test_set_y_orig = np.array(test_dataset[\"test_set_y\"][:])\n",
        "\n",
        "    classes = np.array(test_dataset[\"list_classes\"][:])\n",
        "    \n",
        "    return train_set_x_orig, train_set_y_orig, test_set_x_orig, test_set_y_orig, classes"
      ],
      "execution_count": 0,
      "outputs": []
    },
    {
      "cell_type": "code",
      "metadata": {
        "id": "vK8uyzxUwPDo",
        "colab_type": "code",
        "colab": {}
      },
      "source": [
        "X_train, y_train, X_test, y_test, classes = load_dataset()"
      ],
      "execution_count": 0,
      "outputs": []
    },
    {
      "cell_type": "code",
      "metadata": {
        "id": "Kkf6h_MiARMU",
        "colab_type": "code",
        "colab": {}
      },
      "source": [
        "def train(X_train, y_train, X_test, y_test, epochs, alpha):\n",
        "  w, b = initialise(X_train)\n",
        "  \n",
        "  for i in range(epochs + 1):\n",
        "    z, a = (forward_prop(X_train, w, b))  \n",
        "    dz, dw, db = backward_prop(y_train, a, X_train)\n",
        "    w, b = update(alpha, dw, db, w, b)\n",
        "    \n",
        "    if i % int(epochs / 10) == 0:\n",
        "      z, a_train = (forward_prop(X_train, w, b))\n",
        "      pred_train = np.where(a_train > 0.5, 1, 0)\n",
        "\n",
        "      _, a_test = (forward_prop(X_test, w, b))\n",
        "      pred_test = np.where(a_test > 0.5, 1, 0)\n",
        "      \n",
        "      print('Epoch: {}\\tLoss: {:.5f}\\t\\tTraining Acc: {:.5f}\\tTest Acc: {:.5f}'.\n",
        "            format(i, loss(y_train,a_train), accuracy_score(y_train, pred_train), accuracy_score(y_test, pred_test)))\n",
        "\n",
        "  return w, b"
      ],
      "execution_count": 0,
      "outputs": []
    },
    {
      "cell_type": "code",
      "metadata": {
        "id": "nxvUqagBSGyO",
        "colab_type": "code",
        "colab": {}
      },
      "source": [
        "def predict(X, y, w, b):\n",
        "  z, a = (forward_prop(X, w, b))\n",
        "  pred = np.where(a>0.5, 1, 0)  \n",
        "\n",
        "  return accuracy_score(y, pred)"
      ],
      "execution_count": 0,
      "outputs": []
    },
    {
      "cell_type": "code",
      "metadata": {
        "id": "V0mMMrrjQQkB",
        "colab_type": "code",
        "outputId": "b6b97d9d-e97a-4a9a-9e31-391fd91109d4",
        "colab": {
          "base_uri": "https://localhost:8080/",
          "height": 207
        }
      },
      "source": [
        "X_train = X_train.reshape(X_train.shape[0], -1) / 255\n",
        "y_train = y_train.reshape(y_train.shape[0], 1)\n",
        "\n",
        "X_test = X_test.reshape(X_test.shape[0], -1) / 255\n",
        "y_test = y_test.reshape(y_test.shape[0], 1)\n",
        "\n",
        "alpha = 5e-3\n",
        "epochs = 1000\n",
        "\n",
        "w, b = train(X_train, y_train, X_test, y_test, epochs, alpha)\n"
      ],
      "execution_count": 13,
      "outputs": [
        {
          "output_type": "stream",
          "text": [
            "Epoch: 0\tLoss: 11.55912\t\tTraining Acc: 0.34450\tTest Acc: 0.66000\n",
            "Epoch: 100\tLoss: 0.58032\t\tTraining Acc: 0.68900\tTest Acc: 0.84000\n",
            "Epoch: 200\tLoss: 0.46317\t\tTraining Acc: 0.83254\tTest Acc: 0.80000\n",
            "Epoch: 300\tLoss: 0.37278\t\tTraining Acc: 0.88995\tTest Acc: 0.72000\n",
            "Epoch: 400\tLoss: 0.32994\t\tTraining Acc: 0.91866\tTest Acc: 0.70000\n",
            "Epoch: 500\tLoss: 0.30204\t\tTraining Acc: 0.92823\tTest Acc: 0.74000\n",
            "Epoch: 600\tLoss: 0.27885\t\tTraining Acc: 0.93780\tTest Acc: 0.74000\n",
            "Epoch: 700\tLoss: 0.25918\t\tTraining Acc: 0.95215\tTest Acc: 0.74000\n",
            "Epoch: 800\tLoss: 0.24220\t\tTraining Acc: 0.95694\tTest Acc: 0.74000\n",
            "Epoch: 900\tLoss: 0.22736\t\tTraining Acc: 0.96172\tTest Acc: 0.74000\n",
            "Epoch: 1000\tLoss: 0.21426\t\tTraining Acc: 0.97129\tTest Acc: 0.74000\n"
          ],
          "name": "stdout"
        }
      ]
    },
    {
      "cell_type": "code",
      "metadata": {
        "id": "ZHVa3_jR-AJV",
        "colab_type": "code",
        "outputId": "129dc6b0-7a18-4e45-d9a3-6d088f2fb693",
        "colab": {
          "base_uri": "https://localhost:8080/",
          "height": 34
        }
      },
      "source": [
        "pred = predict(X_test, y_test, w, b)\n",
        "print('Test accuracy: ', pred)"
      ],
      "execution_count": 14,
      "outputs": [
        {
          "output_type": "stream",
          "text": [
            "Test accuracy:  0.74\n"
          ],
          "name": "stdout"
        }
      ]
    }
  ]
}